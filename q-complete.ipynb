{
 "cells": [
  {
   "cell_type": "code",
   "execution_count": 1,
   "metadata": {},
   "outputs": [],
   "source": [
    "## Question number one(1)\n",
    "\n",
    "import numpy as np\n",
    "import pandas as pd\n",
    "import matplotlib.pyplot as plt"
   ]
  },
  {
   "cell_type": "code",
   "execution_count": 2,
   "metadata": {},
   "outputs": [],
   "source": [
    "data1=pd.read_csv(\"startup_funding.csv\")\n",
    "data=data1.copy()"
   ]
  },
  {
   "cell_type": "code",
   "execution_count": 3,
   "metadata": {},
   "outputs": [],
   "source": [
    "data['CityLocation'].replace('Delhi','New Delhi',inplace=True)\n",
    "data['CityLocation'].replace('bangalore','Bangalore',inplace=True)\n",
    "data['CityLocation'].dropna(inplace=True)\n",
    "def name(cityname):\n",
    "    return cityname.split('/')[0].strip()\n",
    "data['city']=data['CityLocation'].apply(name)\n"
   ]
  },
  {
   "cell_type": "code",
   "execution_count": 4,
   "metadata": {},
   "outputs": [],
   "source": [
    "new_data=data[(data[\"CityLocation\"]=='Bangalore')|(data[\"CityLocation\"]=='Mumbai')|(data[\"CityLocation\"]=='New Delhi')|(data[\"CityLocation\"]=='Noida')|(data[\"CityLocation\"]=='Gurgaon')]"
   ]
  },
  {
   "cell_type": "code",
   "execution_count": 5,
   "metadata": {},
   "outputs": [
    {
     "name": "stdout",
     "output_type": "stream",
     "text": [
      "\n"
     ]
    }
   ],
   "source": [
    "d={}\n",
    "def count(citylocation):\n",
    "    if (citylocation==\"Noida\")|(citylocation==\"New Delhi\")|(citylocation==\"Gurgaon\"):\n",
    "        d[\"NCR\"]=d.get(\"NCR\",0)+1\n",
    "    else:\n",
    "        d[citylocation]=d.get(citylocation,0)+1\n",
    "    \n",
    "new_data['CityLocation'].apply(count)    \n",
    "print()"
   ]
  },
  {
   "cell_type": "code",
   "execution_count": 6,
   "metadata": {},
   "outputs": [
    {
     "data": {
      "text/plain": [
       "{'Bangalore': 628, 'Mumbai': 446, 'NCR': 703}"
      ]
     },
     "execution_count": 6,
     "metadata": {},
     "output_type": "execute_result"
    }
   ],
   "source": [
    "d"
   ]
  },
  {
   "cell_type": "code",
   "execution_count": 7,
   "metadata": {},
   "outputs": [
    {
     "data": {
      "image/png": "[encoded data removed]",
      "text/plain": [
       "<Figure size 432x288 with 1 Axes>"
      ]
     },
     "metadata": {
      "needs_background": "light"
     },
     "output_type": "display_data"
    }
   ],
   "source": [
    "for i in d.keys():\n",
    "    plt.bar(i,d[i])\n",
    "    plt.text(i,d[i]+5,d[i])\n",
    "plt.xlabel(\"CITIES\")\n",
    "plt.ylabel(\"No. of Startups\")\n",
    "plt.xticks(rotation=45)\n",
    "plt.show()"
   ]
  },
  {
   "cell_type": "code",
   "execution_count": null,
   "metadata": {},
   "outputs": [],
   "source": []
  },
  {
   "cell_type": "code",
   "execution_count": null,
   "metadata": {},
   "outputs": [],
   "source": []
  },
  {
   "cell_type": "code",
   "execution_count": 8,
   "metadata": {},
   "outputs": [],
   "source": [
    "## Question number two(2)\n",
    "\n",
    "import numpy as np\n",
    "import pandas as pd\n",
    "import matplotlib.pyplot as plt"
   ]
  },
  {
   "cell_type": "code",
   "execution_count": 9,
   "metadata": {},
   "outputs": [],
   "source": [
    "data1=pd.read_csv(\"startup_funding.csv\")\n",
    "data=data1.copy()"
   ]
  },
  {
   "cell_type": "code",
   "execution_count": 10,
   "metadata": {},
   "outputs": [
    {
     "name": "stdout",
     "output_type": "stream",
     "text": [
      "\n"
     ]
    }
   ],
   "source": [
    "d={}\n",
    "investors=data[\"InvestorsName\"]\n",
    "investors.dropna(inplace=True)\n",
    "def count(investors):\n",
    "    li=investors.split(\",\")\n",
    "    for i in li:\n",
    "        i=i.strip()\n",
    "        d[i]=d.get(i,0)+1\n",
    "investors.apply(count)   \n",
    "print()"
   ]
  },
  {
   "cell_type": "code",
   "execution_count": 11,
   "metadata": {},
   "outputs": [
    {
     "data": {
      "text/plain": [
       "Text(0, 0.5, 'NO. Of Investments')"
      ]
     },
     "execution_count": 11,
     "metadata": {},
     "output_type": "execute_result"
    },
    {
     "data": {
      "image/png": "[encoded data removed]",
      "text/plain": [
       "<Figure size 432x288 with 1 Axes>"
      ]
     },
     "metadata": {
      "needs_background": "light"
     },
     "output_type": "display_data"
    }
   ],
   "source": [
    "del(d[''])\n",
    "so_key=sorted(d,key=d.get,reverse=True)[:5]\n",
    "for i in so_key:\n",
    "    plt.bar(i,d[i])\n",
    "    plt.text(i,d[i]+0.1,d[i])\n",
    "plt.xticks(rotation=45) \n",
    "plt.xlabel(\"INVESTOR NAME\")\n",
    "plt.ylabel(\"NO. Of Investments\")\n"
   ]
  },
  {
   "cell_type": "code",
   "execution_count": 12,
   "metadata": {},
   "outputs": [
    {
     "name": "stdout",
     "output_type": "stream",
     "text": [
      "Sequoia Capital   :   64\n",
      "Accel Partners   :   53\n",
      "Kalaari Capital   :   44\n",
      "SAIF Partners   :   41\n",
      "Indian Angel Network   :   40\n"
     ]
    }
   ],
   "source": [
    "for i in so_key:\n",
    "    print(i,\"  :  \",d[i])"
   ]
  },
  {
   "cell_type": "code",
   "execution_count": null,
   "metadata": {},
   "outputs": [],
   "source": []
  },
  {
   "cell_type": "code",
   "execution_count": null,
   "metadata": {},
   "outputs": [],
   "source": []
  },
  {
   "cell_type": "code",
   "execution_count": 13,
   "metadata": {},
   "outputs": [],
   "source": [
    "## Question number three(3)\n",
    "\n",
    "import numpy as np\n",
    "import pandas as pd\n",
    "import matplotlib.pyplot as plt"
   ]
  },
  {
   "cell_type": "code",
   "execution_count": 14,
   "metadata": {},
   "outputs": [],
   "source": [
    "data1=pd.read_csv(\"startup_funding.csv\")\n",
    "data=data1.copy()"
   ]
  },
  {
   "cell_type": "code",
   "execution_count": 15,
   "metadata": {},
   "outputs": [],
   "source": [
    "data['StartupName']=data['StartupName'].str.strip()\n",
    "data['StartupName'].replace('Olacabs','Ola',inplace=True)\n",
    "data['StartupName'].replace('Ola Cabs','Ola',inplace=True)\n",
    "data['StartupName'].replace('Oyorooms','Oyo',inplace=True)\n",
    "data['StartupName'].replace('Flipkart.com','Flipkart',inplace=True)\n",
    "data['StartupName'].replace('OYO Rooms','Oyo',inplace=True)\n",
    "data['StartupName'].replace('Paytm Marketplace','Paytm',inplace=True)\n",
    "data['StartupName'].replace('Oyo Rooms','Oyo',inplace=True)\n",
    "data['StartupName'].replace('OyoRoom','Oyo',inplace=True)"
   ]
  },
  {
   "cell_type": "code",
   "execution_count": 16,
   "metadata": {},
   "outputs": [],
   "source": [
    "d={}\n",
    "for j in range(data.shape[0]):\n",
    "    company=data.iloc[j][\"StartupName\"]\n",
    "    investors=data.iloc[j][\"InvestorsName\"]\n",
    "    if(type(investors)==float):\n",
    "        continue\n",
    "    investors=investors.split(\",\")\n",
    "    for i in investors:\n",
    "        i=i.strip()\n",
    "        if i=='':\n",
    "            continue\n",
    "        if d.get(i,0)==0:\n",
    "            d[i]=[]\n",
    "            d[i].append(company)\n",
    "        else:\n",
    "            if company not in d[i]:\n",
    "                d[i].append(company)\n",
    "                \n",
    "                \n",
    "# d is a dictionary in which key is the name of the investor and value is the list of company in which \n",
    "# the investment is done\n",
    "d2={}"
   ]
  },
  {
   "cell_type": "code",
   "execution_count": 17,
   "metadata": {},
   "outputs": [
    {
     "data": {
      "text/plain": [
       "Text(0, 0.5, 'NO. Of Investments')"
      ]
     },
     "execution_count": 17,
     "metadata": {},
     "output_type": "execute_result"
    },
    {
     "data": {
      "image/png": "[encoded data removed]",
      "text/plain": [
       "<Figure size 432x288 with 1 Axes>"
      ]
     },
     "metadata": {
      "needs_background": "light"
     },
     "output_type": "display_data"
    }
   ],
   "source": [
    "for i in d:\n",
    "    d2[i]=len(d[i])\n",
    "so_key=sorted(d2,key=d2.get,reverse=True)[:5]\n",
    "for i in so_key:\n",
    "    plt.bar(i,d2[i])\n",
    "    plt.text(i,d2[i]+0.1,d2[i])\n",
    "plt.xticks(rotation=45) \n",
    "plt.xlabel(\"INVESTOR NAME\")\n",
    "plt.ylabel(\"NO. Of Investments\")"
   ]
  },
  {
   "cell_type": "code",
   "execution_count": 18,
   "metadata": {},
   "outputs": [
    {
     "name": "stdout",
     "output_type": "stream",
     "text": [
      "Sequoia Capital   :   48\n",
      "Accel Partners   :   47\n",
      "Kalaari Capital   :   41\n",
      "Indian Angel Network   :   40\n",
      "Blume Ventures   :   36\n"
     ]
    }
   ],
   "source": [
    "for i in so_key:\n",
    "    print(i,\"  :  \",d2[i])"
   ]
  },
  {
   "cell_type": "code",
   "execution_count": null,
   "metadata": {},
   "outputs": [],
   "source": []
  },
  {
   "cell_type": "code",
   "execution_count": null,
   "metadata": {},
   "outputs": [],
   "source": []
  },
  {
   "cell_type": "code",
   "execution_count": 19,
   "metadata": {},
   "outputs": [],
   "source": [
    "## Question number four(4-1)\n",
    "\n",
    "import numpy as np\n",
    "import pandas as pd\n",
    "import matplotlib.pyplot as plt"
   ]
  },
  {
   "cell_type": "code",
   "execution_count": 20,
   "metadata": {},
   "outputs": [],
   "source": [
    "data1=pd.read_csv(\"startup_funding.csv\")\n",
    "data=data1.copy()"
   ]
  },
  {
   "cell_type": "code",
   "execution_count": 21,
   "metadata": {},
   "outputs": [],
   "source": [
    "data['StartupName']=data['StartupName'].str.strip()\n",
    "data['StartupName'].replace('Olacabs','Ola',inplace=True)\n",
    "data['StartupName'].replace('Ola Cabs','Ola',inplace=True)\n",
    "data['StartupName'].replace('Oyorooms','Oyo',inplace=True)\n",
    "data['StartupName'].replace('Flipkart.com','Flipkart',inplace=True)\n",
    "data['StartupName'].replace('OYO Rooms','Oyo',inplace=True)\n",
    "data['StartupName'].replace('Paytm Marketplace','Paytm',inplace=True)\n",
    "data['StartupName'].replace('Oyo Rooms','Oyo',inplace=True)\n",
    "data['StartupName'].replace('OyoRoom','Oyo',inplace=True)"
   ]
  },
  {
   "cell_type": "code",
   "execution_count": 22,
   "metadata": {},
   "outputs": [],
   "source": [
    "data[\"InvestmentType\"].replace(\"PrivateEquity\",\"Private Equity\",inplace=True)\n",
    "data[\"InvestmentType\"].replace(\"SeedFunding\",\"Seed Funding\",inplace=True)\n",
    "data[\"InvestmentType\"].replace(\"Crowd funding\",\"Crowd Funding\",inplace=True)"
   ]
  },
  {
   "cell_type": "code",
   "execution_count": 23,
   "metadata": {},
   "outputs": [],
   "source": [
    "data[\"InvestorsName\"].replace(\"Undisclosed investors\",\"Undisclosed Investors\",inplace=True)"
   ]
  },
  {
   "cell_type": "code",
   "execution_count": 24,
   "metadata": {},
   "outputs": [],
   "source": [
    "new_data=data[(data[\"InvestmentType\"]==\"Seed Funding\")|(data[\"InvestmentType\"]==\"Crowd Funding\")]"
   ]
  },
  {
   "cell_type": "code",
   "execution_count": 25,
   "metadata": {},
   "outputs": [],
   "source": [
    "d={}\n",
    "for j in range(new_data.shape[0]):\n",
    "    company=new_data.iloc[j][\"StartupName\"]\n",
    "    investors=new_data.iloc[j][\"InvestorsName\"]\n",
    "    if(type(investors)==float):\n",
    "        continue\n",
    "    investors=investors.split(\",\")\n",
    "    for i in investors:\n",
    "        i=i.strip()\n",
    "        if i=='':\n",
    "            continue\n",
    "        if i==\"Undisclosed Investors\":\n",
    "            continue\n",
    "        \n",
    "        if d.get(i,0)==0:\n",
    "            d[i]=[]\n",
    "            d[i].append(company)\n",
    "        else:\n",
    "            if company not in d[i]:\n",
    "                d[i].append(company)\n",
    "                \n",
    "                \n",
    "# d is a dictionary in which key is the name of the investor and value is the list of company in which \n",
    "# the investment is done\n",
    "d2={}"
   ]
  },
  {
   "cell_type": "code",
   "execution_count": 26,
   "metadata": {},
   "outputs": [
    {
     "data": {
      "text/plain": [
       "Text(0, 0.5, 'NO. Of Investments')"
      ]
     },
     "execution_count": 26,
     "metadata": {},
     "output_type": "execute_result"
    },
    {
     "data": {
      "image/png": "[encoded data removed]",
      "text/plain": [
       "<Figure size 432x288 with 1 Axes>"
      ]
     },
     "metadata": {
      "needs_background": "light"
     },
     "output_type": "display_data"
    }
   ],
   "source": [
    "for i in d:\n",
    "    d2[i]=len(d[i])\n",
    "so_key=sorted(d2,key=d2.get,reverse=True)[:6]\n",
    "for i in so_key:\n",
    "    plt.bar(i,d2[i])\n",
    "    plt.text(i,d2[i]+0.1,d2[i])\n",
    "plt.xticks(rotation=45) \n",
    "plt.xlabel(\"INVESTOR NAME\")\n",
    "plt.ylabel(\"NO. Of Investments\")"
   ]
  },
  {
   "cell_type": "code",
   "execution_count": 27,
   "metadata": {},
   "outputs": [
    {
     "name": "stdout",
     "output_type": "stream",
     "text": [
      "Indian Angel Network   :   33\n",
      "Rajan Anandan   :   23\n",
      "LetsVenture   :   16\n",
      "Anupam Mittal   :   16\n",
      "Kunal Shah   :   14\n",
      "Group of Angel Investors   :   14\n"
     ]
    }
   ],
   "source": [
    "for i in so_key:\n",
    "    print(i,\"  :  \",d2[i])"
   ]
  },
  {
   "cell_type": "code",
   "execution_count": null,
   "metadata": {},
   "outputs": [],
   "source": []
  },
  {
   "cell_type": "code",
   "execution_count": null,
   "metadata": {},
   "outputs": [],
   "source": []
  },
  {
   "cell_type": "code",
   "execution_count": 28,
   "metadata": {},
   "outputs": [],
   "source": [
    "## Question number four(5-1)\n",
    "\n",
    "import numpy as np\n",
    "import pandas as pd\n",
    "import matplotlib.pyplot as plt"
   ]
  },
  {
   "cell_type": "code",
   "execution_count": 29,
   "metadata": {},
   "outputs": [],
   "source": [
    "data1=pd.read_csv(\"startup_funding.csv\")\n",
    "data=data1.copy()"
   ]
  },
  {
   "cell_type": "code",
   "execution_count": 30,
   "metadata": {},
   "outputs": [],
   "source": [
    "data['StartupName']=data['StartupName'].str.strip()\n",
    "data['StartupName'].replace('Olacabs','Ola',inplace=True)\n",
    "data['StartupName'].replace('Ola Cabs','Ola',inplace=True)\n",
    "data['StartupName'].replace('Oyorooms','Oyo',inplace=True)\n",
    "data['StartupName'].replace('Flipkart.com','Flipkart',inplace=True)\n",
    "data['StartupName'].replace('OYO Rooms','Oyo',inplace=True)\n",
    "data['StartupName'].replace('Paytm Marketplace','Paytm',inplace=True)\n",
    "data['StartupName'].replace('Oyo Rooms','Oyo',inplace=True)\n",
    "data['StartupName'].replace('OyoRoom','Oyo',inplace=True)"
   ]
  },
  {
   "cell_type": "code",
   "execution_count": 31,
   "metadata": {},
   "outputs": [],
   "source": [
    "data[\"InvestmentType\"].replace(\"PrivateEquity\",\"Private Equity\",inplace=True)\n",
    "data[\"InvestmentType\"].replace(\"SeedFunding\",\"Seed Funding\",inplace=True)\n",
    "data[\"InvestmentType\"].replace(\"Crowd funding\",\"Crowd Funding\",inplace=True)"
   ]
  },
  {
   "cell_type": "code",
   "execution_count": 32,
   "metadata": {},
   "outputs": [],
   "source": [
    "data[\"InvestorsName\"].replace(\"Undisclosed investors\",\"Undisclosed Investors\",inplace=True)"
   ]
  },
  {
   "cell_type": "code",
   "execution_count": 33,
   "metadata": {},
   "outputs": [],
   "source": [
    "new_data=data[data[\"InvestmentType\"]==\"Private Equity\"]"
   ]
  },
  {
   "cell_type": "code",
   "execution_count": 34,
   "metadata": {},
   "outputs": [],
   "source": [
    "d={}\n",
    "for j in range(new_data.shape[0]):\n",
    "    company=new_data.iloc[j][\"StartupName\"]\n",
    "    investors=new_data.iloc[j][\"InvestorsName\"]\n",
    "    if(type(investors)==float):\n",
    "        continue\n",
    "    investors=investors.split(\",\")\n",
    "    for i in investors:\n",
    "        i=i.strip()\n",
    "        if i=='':\n",
    "            continue\n",
    "        if d.get(i,0)==0:\n",
    "            d[i]=[]\n",
    "            d[i].append(company)\n",
    "        else:\n",
    "            if company not in d[i]:\n",
    "                d[i].append(company)\n",
    "                \n",
    "                \n",
    "# d is a dictionary in which key is the name of the investor and value is the list of company in which \n",
    "# the investment is done\n",
    "d2={}"
   ]
  },
  {
   "cell_type": "code",
   "execution_count": 35,
   "metadata": {},
   "outputs": [
    {
     "data": {
      "text/plain": [
       "Text(0, 0.5, 'NO. Of Investments')"
      ]
     },
     "execution_count": 35,
     "metadata": {},
     "output_type": "execute_result"
    },
    {
     "data": {
      "image/png": "[encoded data removed]",
      "text/plain": [
       "<Figure size 432x288 with 1 Axes>"
      ]
     },
     "metadata": {
      "needs_background": "light"
     },
     "output_type": "display_data"
    }
   ],
   "source": [
    "for i in d:\n",
    "    d2[i]=len(d[i])\n",
    "so_key=sorted(d2,key=d2.get,reverse=True)[:5]\n",
    "for i in so_key:\n",
    "    plt.bar(i,d2[i])\n",
    "    plt.text(i,d2[i]+0.1,d2[i])\n",
    "plt.xticks(rotation=45) \n",
    "plt.xlabel(\"INVESTOR NAME\")\n",
    "plt.ylabel(\"NO. Of Investments\")"
   ]
  },
  {
   "cell_type": "code",
   "execution_count": 36,
   "metadata": {},
   "outputs": [
    {
     "name": "stdout",
     "output_type": "stream",
     "text": [
      "Sequoia Capital   :   45\n",
      "Accel Partners   :   43\n",
      "Kalaari Capital   :   35\n",
      "Blume Ventures   :   27\n",
      "SAIF Partners   :   24\n"
     ]
    }
   ],
   "source": [
    "for i in so_key:\n",
    "    print(i,\"  :  \",d2[i])"
   ]
  },
  {
   "cell_type": "code",
   "execution_count": null,
   "metadata": {},
   "outputs": [],
   "source": []
  }
 ],
 "metadata": {
  "kernelspec": {
   "display_name": "Python 3",
   "language": "python",
   "name": "python3"
  },
  "language_info": {
   "codemirror_mode": {
    "name": "ipython",
    "version": 3
   },
   "file_extension": ".py",
   "mimetype": "text/x-python",
   "name": "python",
   "nbconvert_exporter": "python",
   "pygments_lexer": "ipython3",
   "version": "3.7.6"
  }
 },
 "nbformat": 4,
 "nbformat_minor": 4
}
